{
 "cells": [
  {
   "cell_type": "code",
   "execution_count": 1,
   "id": "86fd48f3",
   "metadata": {},
   "outputs": [],
   "source": [
    "#import libraries\n",
    "import pandas as pd\n",
    "import matplotlib.pyplot as plt\n"
   ]
  },
  {
   "cell_type": "code",
   "execution_count": null,
   "id": "769de4d1",
   "metadata": {
    "scrolled": true
   },
   "outputs": [],
   "source": [
    "#read csv files\n",
    "\n",
    "airlines_df= pd.read_csv('Resources/airlines.csv', low_memory=False)\n",
    "flights_df = pd.read_csv('Resources/flights.csv', low_memory=False)"
   ]
  },
  {
   "cell_type": "code",
   "execution_count": null,
   "id": "0c62dd1a",
   "metadata": {},
   "outputs": [],
   "source": [
    "airlines_df.info()"
   ]
  },
  {
   "cell_type": "code",
   "execution_count": null,
   "id": "d22ddb90",
   "metadata": {},
   "outputs": [],
   "source": [
    "#show first 5 records\n",
    "airlines_df.head()\n"
   ]
  },
  {
   "cell_type": "code",
   "execution_count": null,
   "id": "228bade0",
   "metadata": {
    "scrolled": true
   },
   "outputs": [],
   "source": [
    "flights_df.info()"
   ]
  },
  {
   "cell_type": "code",
   "execution_count": null,
   "id": "dd9d582d",
   "metadata": {},
   "outputs": [],
   "source": [
    "#determine the number of nulls per column\n",
    "flights_df.isnull().sum()"
   ]
  },
  {
   "cell_type": "code",
   "execution_count": null,
   "id": "77288cb0",
   "metadata": {},
   "outputs": [],
   "source": [
    "#drop unneeded columns\n",
    "airline_data_dropped_df=flights_df.drop(columns=['TAIL_NUMBER', 'WHEELS_ON', 'WHEELS_OFF', 'TAXI_IN','TAXI_OUT', 'AIR_TIME'])"
   ]
  },
  {
   "cell_type": "code",
   "execution_count": null,
   "id": "b73bc72e",
   "metadata": {},
   "outputs": [],
   "source": [
    "airline_data_dropped_df.info()"
   ]
  },
  {
   "cell_type": "code",
   "execution_count": null,
   "id": "a7fa3a51",
   "metadata": {},
   "outputs": [],
   "source": [
    "#merge the year, month and day columns into one Date column\n",
    "airline_data_dropped_df['DATE'] = pd.to_datetime(airline_data_dropped_df[['YEAR', 'MONTH', 'DAY']])\n",
    "\n",
    "#drop the individual year, month and day columns\n",
    "airline_data_dropped_df = airline_data_dropped_df.drop(['YEAR', 'MONTH', 'DAY'], axis=1)"
   ]
  },
  {
   "cell_type": "code",
   "execution_count": null,
   "id": "d76f50b3",
   "metadata": {},
   "outputs": [],
   "source": [
    "#function to determine if flight was on time or delayed\n",
    "def delay_status(arrival_depature_time):\n",
    "    flight_status=''\n",
    "    if arrival_depature_time  > 15:\n",
    "        # Extract 'name' and 'value'\n",
    "        flight_status='DELAYED'\n",
    "    else:\n",
    "        flight_status='ON_TIME'\n",
    "        \n",
    "    return flight_status\n",
    "\n",
    "#assign depature flight status (delayed or ontime) to new column\n",
    "airline_data_dropped_df['DEPATURE_DELAY_STATUS']=airline_data_dropped_df['DEPARTURE_DELAY'].apply(delay_status)\n",
    "\n",
    "\n",
    "#assign arrival flight status (delayed or ontime) to new column\n",
    "airline_data_dropped_df['ARRIVAL_DELAY_STATUS']=airline_data_dropped_df['ARRIVAL_DELAY'].apply(delay_status)"
   ]
  },
  {
   "cell_type": "code",
   "execution_count": null,
   "id": "4583a7e5",
   "metadata": {},
   "outputs": [],
   "source": [
    "airline_data_dropped_df.head()"
   ]
  },
  {
   "cell_type": "code",
   "execution_count": null,
   "id": "51d46280",
   "metadata": {},
   "outputs": [],
   "source": [
    "#set index to the Date column\n",
    "airline_data_dropped_df=airline_data_dropped_df.set_index('DATE', drop=True)\n",
    "\n",
    "#slice and get data from January to April\n",
    "first_quarter_df = airline_data_dropped_df['2015-01-01':'2015-04-30']"
   ]
  },
  {
   "cell_type": "code",
   "execution_count": null,
   "id": "497ba4cc",
   "metadata": {},
   "outputs": [],
   "source": [
    "first_quarter_df=first_quarter_df.rename(columns={\"AIRLINE\": \"AIRLINE_CODE\"})"
   ]
  },
  {
   "cell_type": "code",
   "execution_count": null,
   "id": "dda4ae34",
   "metadata": {},
   "outputs": [],
   "source": [
    "first_quarter_df.info()"
   ]
  },
  {
   "cell_type": "code",
   "execution_count": null,
   "id": "df1f6215",
   "metadata": {},
   "outputs": [],
   "source": [
    "#drop rows with null depature delays\n",
    "first_quarter_df.dropna(subset=['DEPARTURE_DELAY'], inplace=True)"
   ]
  },
  {
   "cell_type": "code",
   "execution_count": null,
   "id": "4732c29a",
   "metadata": {},
   "outputs": [],
   "source": [
    "#get all the delayed depatures\n",
    "delayed_depatures=first_quarter_df[first_quarter_df['DEPATURE_DELAY_STATUS']=='DELAYED']\n",
    "\n",
    "#get day of the week for all delayed depatures\n",
    "day_of_week_depature_df=pd.DataFrame(delayed_depatures[[\"DAY_OF_WEEK\"]])\n",
    "\n",
    "#count all delayed depatures and group them by day of the week\n",
    "depatures_day_of_week_delays_df=pd.DataFrame(day_of_week_depature_df.groupby(['DAY_OF_WEEK']).value_counts())\n",
    "\n",
    "#reset index\n",
    "depatures_day_of_week_delays_df=depatures_day_of_week_delays_df.reset_index('DAY_OF_WEEK')\n",
    "\n",
    "#function to get the day name from the day number\n",
    "def get_day_name(day_number):\n",
    "    day_name=''\n",
    "    \n",
    "    match day_number:\n",
    "        case 1:\n",
    "            day_name=\"Monday\"\n",
    "        case 2:\n",
    "            day_name=\"Tuesday\"\n",
    "        case 3:\n",
    "            day_name=\"Wednesday\"\n",
    "        case 4:\n",
    "            day_name=\"Thursday\"\n",
    "        case 5:\n",
    "            day_name=\"Friday\"\n",
    "        case 6:\n",
    "            day_name=\"Saturday\"\n",
    "        case 7:\n",
    "            day_name=\"Sunday\"\n",
    "    \n",
    "    return day_name\n",
    "\n",
    "#get the name of the day of the week\n",
    "depatures_day_of_week_delays_df[\"DAY_NAME\"]= depatures_day_of_week_delays_df['DAY_OF_WEEK'].apply(get_day_name)\n",
    "\n",
    "#do a line plot for all the delayed depatures by the day of the week\n",
    "depatures_day_of_week_delays_df.set_index('DAY_NAME')['count'].plot(title='Delayed Depature Flights by Day of the Week', xlabel=\"Day of the Week\", rot=45, color=\"green\")\n"
   ]
  },
  {
   "cell_type": "code",
   "execution_count": null,
   "id": "2b614e48",
   "metadata": {},
   "outputs": [],
   "source": [
    "#get all the delayed arrivals\n",
    "delayed_arrivals=first_quarter_df[first_quarter_df['ARRIVAL_DELAY_STATUS']=='DELAYED']\n",
    "\n",
    "#get day of week for all delayed arrivals\n",
    "day_of_week_arrivals_df=pd.DataFrame(delayed_arrivals[[\"DAY_OF_WEEK\"]])\n",
    "\n",
    "#groub delayed arrivals and count them\n",
    "day_of_week_delayed_arrivals_df=pd.DataFrame(day_of_week_arrivals_df.groupby(['DAY_OF_WEEK']).value_counts())\n",
    "\n",
    "#reset the index\n",
    "day_of_week_delayed_arrivals_df=day_of_week_delayed_arrivals_df.reset_index('DAY_OF_WEEK')\n",
    "\n",
    "\n",
    "\n",
    "day_of_week_delayed_arrivals_df[\"DAY_NAME\"]= day_of_week_delayed_arrivals_df['DAY_OF_WEEK'].apply(get_day_name)\n",
    "\n",
    "day_of_week_delayed_arrivals_df.set_index('DAY_NAME')['count'].plot(title='Delayed Flight Arrivals by Day of the Week', xlabel=\"Day of the Week\", rot=45)"
   ]
  },
  {
   "cell_type": "code",
   "execution_count": null,
   "id": "8133b316",
   "metadata": {},
   "outputs": [],
   "source": [
    "#get the top 9 airlines with the most depatures and arrivals. This filters out airlines with lower volume\n",
    "airlines_to_study=pd.DataFrame(first_quarter_df['AIRLINE_CODE'].value_counts().head(9))\n",
    "\n",
    "airlines_to_study=airlines_to_study.reset_index()\n",
    "\n",
    "#function to get airline name from the airline code\n",
    "def get_airline_name(iata_code):\n",
    "    airline_name=''\n",
    "    \n",
    "    for index, row in airlines_df.iterrows():\n",
    "        if row['IATA_CODE']==iata_code:\n",
    "            airline_name=row['AIRLINE']\n",
    "    \n",
    "    return airline_name\n",
    "\n",
    "#get airline name and assign it to the AIRLINE_NAME column\n",
    "airlines_to_study['AIRLINE_NAME']=airlines_to_study['AIRLINE_CODE'].apply(get_airline_name)\n",
    "\n",
    "#rename the count column to TOTAL_NUMBER_OF_FLIGHTS\n",
    "airlines_to_study=airlines_to_study.rename(columns={\"count\": \"TOTAL_NUMBER_OF_FLIGHTS\"})\n",
    "\n",
    "airlines_to_study=airlines_to_study.reset_index()\n",
    "\n",
    "#reorder the columns\n",
    "airlines_to_study = airlines_to_study[[\"AIRLINE_CODE\",\"AIRLINE_NAME\",\"TOTAL_NUMBER_OF_FLIGHTS\"]]\n",
    "\n",
    "airlines_to_study"
   ]
  },
  {
   "cell_type": "code",
   "execution_count": null,
   "id": "eaa96564",
   "metadata": {},
   "outputs": [],
   "source": [
    "#create a list to filter out our data in our analysis\n",
    "airline_filter_list= airlines_to_study['AIRLINE_CODE'].tolist()\n",
    "\n",
    "airline_filter_list\n"
   ]
  },
  {
   "cell_type": "code",
   "execution_count": null,
   "id": "6a831014",
   "metadata": {},
   "outputs": [],
   "source": [
    "#filter and only get dataset for the top 9 high volume airlines\n",
    "first_quarter_filtered_df=first_quarter_df[first_quarter_df['AIRLINE_CODE'].isin(airline_filter_list)] \n",
    "\n",
    "#get top 9 airlines with depature delays\n",
    "airline_depatures_df = first_quarter_filtered_df[[\"AIRLINE_CODE\",\"DEPATURE_DELAY_STATUS\"]]\n",
    "\n",
    "#get a count of depature delays grouped by airline\n",
    "departures_by_airline=pd.DataFrame(airline_depatures_df.groupby(['AIRLINE_CODE','DEPATURE_DELAY_STATUS']).value_counts())\n",
    "\n",
    "departures_by_airline=departures_by_airline.reset_index()\n",
    "\n",
    "#Get actual airline name\n",
    "departures_by_airline['AIRLINE_NAME']=departures_by_airline['AIRLINE_CODE'].apply(get_airline_name)\n",
    "#departures_by_airline=departures_by_airline.set_index(['AIRLINE','DEPATURE_DELAY_STATUS'])\n",
    "\n",
    "#rename count column\n",
    "departures_by_airline=departures_by_airline.rename(columns={\"count\": \"TOTAL_NUMBER_OF_FLIGHTS\"})\n",
    "\n",
    "#reorder the columns\n",
    "departures_by_airline = departures_by_airline[[\"AIRLINE_CODE\",\"AIRLINE_NAME\",\"DEPATURE_DELAY_STATUS\", \"TOTAL_NUMBER_OF_FLIGHTS\"]]\n",
    "\n",
    "departures_by_airline\n"
   ]
  },
  {
   "cell_type": "code",
   "execution_count": null,
   "id": "185b95a3",
   "metadata": {},
   "outputs": [],
   "source": [
    "#set index\n",
    "departures_by_airline=departures_by_airline.set_index('AIRLINE_NAME', drop=True)\n",
    "\n",
    "#departures_by_airline\n",
    "depature_delays_df=departures_by_airline[departures_by_airline['DEPATURE_DELAY_STATUS']=='DELAYED']\n",
    "\n",
    "#rename columns\n",
    "depature_delays_df=depature_delays_df.rename(columns={'TOTAL_NUMBER_OF_FLIGHTS': 'TOTAL_DELAYED_FLIGHTS'})\n",
    "\n",
    "depature_delays_df"
   ]
  },
  {
   "cell_type": "code",
   "execution_count": null,
   "id": "15490468",
   "metadata": {},
   "outputs": [],
   "source": [
    "#draw a bar graph showing delays by airline\n",
    "depature_delays_df.plot(kind=\"bar\", figsize=(20,6), rot=45, title='Departure Delays for Top 9 Airlines', color=\"orange\")"
   ]
  },
  {
   "cell_type": "code",
   "execution_count": null,
   "id": "047bfa84",
   "metadata": {},
   "outputs": [],
   "source": [
    "#draw a pie chart\n",
    "\n",
    "depature_delays_df.plot.pie(y='TOTAL_DELAYED_FLIGHTS', autopct='%1.1f%%', ylabel='', legend=False, rot=45)"
   ]
  },
  {
   "cell_type": "code",
   "execution_count": null,
   "id": "45bede84",
   "metadata": {},
   "outputs": [],
   "source": [
    "#get the top 9 airlines with the most flights\n",
    "first_quarter_filtered_df=first_quarter_df[first_quarter_df['AIRLINE_CODE'].isin(airline_filter_list)] \n",
    "\n",
    "#drop rows with null arruvil delays\n",
    "first_quarter_filtered_df.dropna(subset=['ARRIVAL_DELAY'], inplace=True)\n",
    "\n",
    "#get airlines with their respective delay statuses\n",
    "airline_arrivals_df = first_quarter_filtered_df[[\"AIRLINE_CODE\",\"ARRIVAL_DELAY_STATUS\"]]\n",
    "\n",
    "airline_arrivals_df"
   ]
  },
  {
   "cell_type": "code",
   "execution_count": null,
   "id": "6b479f4a",
   "metadata": {},
   "outputs": [],
   "source": [
    "#get sum of arrivals statuses based on airline\n",
    "arrivals_by_airline=pd.DataFrame(airline_arrivals_df.groupby(['AIRLINE_CODE','ARRIVAL_DELAY_STATUS']).value_counts())\n",
    "\n",
    "#rename column\n",
    "arrivals_by_airline=arrivals_by_airline.rename(columns={'count': 'NUMBER_OF_ARRIVALS'})\n",
    "\n",
    "arrivals_by_airline=arrivals_by_airline.reset_index()\n",
    "\n",
    "#use airline code to get airline name\n",
    "arrivals_by_airline['AIRLINE_NAME']=arrivals_by_airline['AIRLINE_CODE'].apply(get_airline_name)\n",
    "\n",
    "#create dataframe based needed columns\n",
    "arrivals_by_airline = arrivals_by_airline[[\"AIRLINE_CODE\",\"AIRLINE_NAME\",\"ARRIVAL_DELAY_STATUS\", \"NUMBER_OF_ARRIVALS\"]]\n",
    "\n",
    "arrivals_by_airline\n"
   ]
  },
  {
   "cell_type": "code",
   "execution_count": null,
   "id": "752438ae",
   "metadata": {},
   "outputs": [],
   "source": [
    "#get all delayed arrival flights\n",
    "arrival_delays_df=arrivals_by_airline[arrivals_by_airline['ARRIVAL_DELAY_STATUS']=='DELAYED']\n",
    "\n",
    "#rename column\n",
    "arrival_delays_df=arrival_delays_df.rename(columns={'NUMBER_OF_ARRIVALS': 'NUMBER_OF_DELAYED_ARRIVALS'})\n",
    "\n",
    "\n",
    "arrival_delays_df=arrival_delays_df.set_index('AIRLINE_NAME')\n",
    "arrival_delays_df.head(9)"
   ]
  },
  {
   "cell_type": "code",
   "execution_count": null,
   "id": "ffc3fd18",
   "metadata": {},
   "outputs": [],
   "source": [
    "#plot number of delated arrivals by airline\n",
    "arrival_delays_df.plot(kind=\"bar\", figsize=(20,6), rot=45)"
   ]
  },
  {
   "cell_type": "code",
   "execution_count": null,
   "id": "9aff7ef6",
   "metadata": {},
   "outputs": [],
   "source": [
    "#depature_delays_df.plot.(kind='pie', y='count')\n",
    "arrival_delays_df.plot.pie(y='NUMBER_OF_DELAYED_ARRIVALS', ylabel='', autopct='%1.1f%%', legend=False, rot=45)"
   ]
  },
  {
   "cell_type": "code",
   "execution_count": null,
   "id": "9c3d8fc4",
   "metadata": {},
   "outputs": [],
   "source": [
    "delayed_flight_reasons=first_quarter_filtered_df[[\"AIRLINE_CODE\", \"AIR_SYSTEM_DELAY\", \"SECURITY_DELAY\", \"AIRLINE_DELAY\", \"LATE_AIRCRAFT_DELAY\",\"WEATHER_DELAY\"]]\n",
    "\n",
    "#delayed_flight_reasons['AIR_SYSTEM_DELAY'] = delayed_flight_reasons.AIR_SYSTEM_DELAY.fillna(0)\n",
    "delayed_flight_reasons.loc[:,\"AIR_SYSTEM_DELAY\"] = delayed_flight_reasons.AIR_SYSTEM_DELAY.fillna(0)\n",
    "#delayed_flight_reasons['SECURITY_DELAY'] = delayed_flight_reasons.SECURITY_DELAY.fillna(0)\n",
    "delayed_flight_reasons.loc[:,\"SECURITY_DELAY\"] = delayed_flight_reasons.SECURITY_DELAY.fillna(0)\n",
    "#delayed_flight_reasons['AIRLINE_DELAY'] = delayed_flight_reasons.AIRLINE_DELAY.fillna(0)\n",
    "delayed_flight_reasons.loc[:,\"AIRLINE_DELAY\"] = delayed_flight_reasons.AIRLINE_DELAY.fillna(0)\n",
    "#delayed_flight_reasons['LATE_AIRCRAFT_DELAY'] = delayed_flight_reasons.LATE_AIRCRAFT_DELAY.fillna(0)\n",
    "delayed_flight_reasons.loc[:,\"LATE_AIRCRAFT_DELAY\"] = delayed_flight_reasons.LATE_AIRCRAFT_DELAY.fillna(0)\n",
    "#delayed_flight_reasons['WEATHER_DELAY'] = delayed_flight_reasons.WEATHER_DELAY.fillna(0)\n",
    "delayed_flight_reasons.loc[:,\"WEATHER_DELAY\"] = delayed_flight_reasons.WEATHER_DELAY.fillna(0)\n",
    "\n",
    "airline_delays_by_reason=delayed_flight_reasons.groupby(['AIRLINE_CODE'])[['AIRLINE_DELAY', 'LATE_AIRCRAFT_DELAY','AIR_SYSTEM_DELAY','WEATHER_DELAY','SECURITY_DELAY']].sum().reset_index()\n",
    "\n",
    "#Get actual airline name\n",
    "airline_delays_by_reason['AIRLINE_NAME']=airline_delays_by_reason['AIRLINE_CODE'].apply(get_airline_name)\n",
    "\n",
    "airline_delays_by_reason=airline_delays_by_reason.drop(['AIRLINE_CODE'], axis=1)\n",
    "\n",
    "airline_delays_by_reason=airline_delays_by_reason.set_index('AIRLINE_NAME')\n",
    "\n",
    "airline_delays_by_reason=airline_delays_by_reason.sort_values(['AIRLINE_DELAY', 'LATE_AIRCRAFT_DELAY','AIR_SYSTEM_DELAY','WEATHER_DELAY','SECURITY_DELAY'], ascending=[False, False, False, False, False])\n",
    "\n",
    "#airline_delays_by_reason = airline_delays_by_reason[[\"AIRLINE_NAME\", \"LATE_AIRCRAFT_DELAY\",\"AIR_SYSTEM_DELAY\",\"WEATHER_DELAY\",\"SECURITY_DELAY\"]]\n",
    "airline_delays_by_reason\n"
   ]
  },
  {
   "cell_type": "code",
   "execution_count": null,
   "id": "ba092c32",
   "metadata": {},
   "outputs": [],
   "source": [
    "airline_delays_by_reason[[\"AIR_SYSTEM_DELAY\", \"SECURITY_DELAY\", \"AIRLINE_DELAY\", \"LATE_AIRCRAFT_DELAY\", \"WEATHER_DELAY\"]].plot(xlabel=\"Airline Name\", ylabel='Delays by Millions of Minutes', figsize=(20,6), rot=45, lw=4)"
   ]
  },
  {
   "cell_type": "code",
   "execution_count": null,
   "id": "be2b9aab",
   "metadata": {},
   "outputs": [],
   "source": [
    "airline_delays_by_reason.plot.bar(figsize=(20,8),rot=45, xlabel=\"Airline Name\",  ylabel='Delays by Millions of Minutes', width=1);"
   ]
  },
  {
   "cell_type": "code",
   "execution_count": null,
   "id": "e3cc2f5f",
   "metadata": {},
   "outputs": [],
   "source": []
  }
 ],
 "metadata": {
  "kernelspec": {
   "display_name": "Python 3 (ipykernel)",
   "language": "python",
   "name": "python3"
  },
  "language_info": {
   "codemirror_mode": {
    "name": "ipython",
    "version": 3
   },
   "file_extension": ".py",
   "mimetype": "text/x-python",
   "name": "python",
   "nbconvert_exporter": "python",
   "pygments_lexer": "ipython3",
   "version": "3.11.5"
  }
 },
 "nbformat": 4,
 "nbformat_minor": 5
}
