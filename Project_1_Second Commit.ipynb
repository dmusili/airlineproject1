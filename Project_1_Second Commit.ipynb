{
 "cells": [
  {
   "cell_type": "code",
   "execution_count": 77,
   "id": "b54dcce4",
   "metadata": {},
   "outputs": [],
   "source": [
    "import pandas as pd \n",
    "import matplotlib.pyplot as plt"
   ]
  },
  {
   "cell_type": "code",
   "execution_count": 78,
   "id": "4cb3bb2b",
   "metadata": {
    "scrolled": true
   },
   "outputs": [
    {
     "name": "stderr",
     "output_type": "stream",
     "text": [
      "C:\\Users\\v_moe\\AppData\\Local\\Temp\\ipykernel_33056\\376618483.py:1: DtypeWarning: Columns (7,8) have mixed types. Specify dtype option on import or set low_memory=False.\n",
      "  airlines_project_df = pd.read_csv('flights.csv')\n"
     ]
    }
   ],
   "source": [
    "airlines_project_df = pd.read_csv('flights.csv')"
   ]
  },
  {
   "cell_type": "code",
   "execution_count": 79,
   "id": "5cfa633a",
   "metadata": {},
   "outputs": [
    {
     "data": {
      "text/html": [
       "<div>\n",
       "<style scoped>\n",
       "    .dataframe tbody tr th:only-of-type {\n",
       "        vertical-align: middle;\n",
       "    }\n",
       "\n",
       "    .dataframe tbody tr th {\n",
       "        vertical-align: top;\n",
       "    }\n",
       "\n",
       "    .dataframe thead th {\n",
       "        text-align: right;\n",
       "    }\n",
       "</style>\n",
       "<table border=\"1\" class=\"dataframe\">\n",
       "  <thead>\n",
       "    <tr style=\"text-align: right;\">\n",
       "      <th></th>\n",
       "      <th>YEAR</th>\n",
       "      <th>MONTH</th>\n",
       "      <th>DAY</th>\n",
       "      <th>DAY_OF_WEEK</th>\n",
       "      <th>AIRLINE</th>\n",
       "      <th>FLIGHT_NUMBER</th>\n",
       "      <th>TAIL_NUMBER</th>\n",
       "      <th>ORIGIN_AIRPORT</th>\n",
       "      <th>DESTINATION_AIRPORT</th>\n",
       "      <th>SCHEDULED_DEPARTURE</th>\n",
       "      <th>...</th>\n",
       "      <th>ARRIVAL_TIME</th>\n",
       "      <th>ARRIVAL_DELAY</th>\n",
       "      <th>DIVERTED</th>\n",
       "      <th>CANCELLED</th>\n",
       "      <th>CANCELLATION_REASON</th>\n",
       "      <th>AIR_SYSTEM_DELAY</th>\n",
       "      <th>SECURITY_DELAY</th>\n",
       "      <th>AIRLINE_DELAY</th>\n",
       "      <th>LATE_AIRCRAFT_DELAY</th>\n",
       "      <th>WEATHER_DELAY</th>\n",
       "    </tr>\n",
       "  </thead>\n",
       "  <tbody>\n",
       "    <tr>\n",
       "      <th>0</th>\n",
       "      <td>2015</td>\n",
       "      <td>1</td>\n",
       "      <td>1</td>\n",
       "      <td>4</td>\n",
       "      <td>AS</td>\n",
       "      <td>98</td>\n",
       "      <td>N407AS</td>\n",
       "      <td>ANC</td>\n",
       "      <td>SEA</td>\n",
       "      <td>5</td>\n",
       "      <td>...</td>\n",
       "      <td>408.0</td>\n",
       "      <td>-22.0</td>\n",
       "      <td>0</td>\n",
       "      <td>0</td>\n",
       "      <td>NaN</td>\n",
       "      <td>NaN</td>\n",
       "      <td>NaN</td>\n",
       "      <td>NaN</td>\n",
       "      <td>NaN</td>\n",
       "      <td>NaN</td>\n",
       "    </tr>\n",
       "    <tr>\n",
       "      <th>1</th>\n",
       "      <td>2015</td>\n",
       "      <td>1</td>\n",
       "      <td>1</td>\n",
       "      <td>4</td>\n",
       "      <td>AA</td>\n",
       "      <td>2336</td>\n",
       "      <td>N3KUAA</td>\n",
       "      <td>LAX</td>\n",
       "      <td>PBI</td>\n",
       "      <td>10</td>\n",
       "      <td>...</td>\n",
       "      <td>741.0</td>\n",
       "      <td>-9.0</td>\n",
       "      <td>0</td>\n",
       "      <td>0</td>\n",
       "      <td>NaN</td>\n",
       "      <td>NaN</td>\n",
       "      <td>NaN</td>\n",
       "      <td>NaN</td>\n",
       "      <td>NaN</td>\n",
       "      <td>NaN</td>\n",
       "    </tr>\n",
       "    <tr>\n",
       "      <th>2</th>\n",
       "      <td>2015</td>\n",
       "      <td>1</td>\n",
       "      <td>1</td>\n",
       "      <td>4</td>\n",
       "      <td>US</td>\n",
       "      <td>840</td>\n",
       "      <td>N171US</td>\n",
       "      <td>SFO</td>\n",
       "      <td>CLT</td>\n",
       "      <td>20</td>\n",
       "      <td>...</td>\n",
       "      <td>811.0</td>\n",
       "      <td>5.0</td>\n",
       "      <td>0</td>\n",
       "      <td>0</td>\n",
       "      <td>NaN</td>\n",
       "      <td>NaN</td>\n",
       "      <td>NaN</td>\n",
       "      <td>NaN</td>\n",
       "      <td>NaN</td>\n",
       "      <td>NaN</td>\n",
       "    </tr>\n",
       "    <tr>\n",
       "      <th>3</th>\n",
       "      <td>2015</td>\n",
       "      <td>1</td>\n",
       "      <td>1</td>\n",
       "      <td>4</td>\n",
       "      <td>AA</td>\n",
       "      <td>258</td>\n",
       "      <td>N3HYAA</td>\n",
       "      <td>LAX</td>\n",
       "      <td>MIA</td>\n",
       "      <td>20</td>\n",
       "      <td>...</td>\n",
       "      <td>756.0</td>\n",
       "      <td>-9.0</td>\n",
       "      <td>0</td>\n",
       "      <td>0</td>\n",
       "      <td>NaN</td>\n",
       "      <td>NaN</td>\n",
       "      <td>NaN</td>\n",
       "      <td>NaN</td>\n",
       "      <td>NaN</td>\n",
       "      <td>NaN</td>\n",
       "    </tr>\n",
       "    <tr>\n",
       "      <th>4</th>\n",
       "      <td>2015</td>\n",
       "      <td>1</td>\n",
       "      <td>1</td>\n",
       "      <td>4</td>\n",
       "      <td>AS</td>\n",
       "      <td>135</td>\n",
       "      <td>N527AS</td>\n",
       "      <td>SEA</td>\n",
       "      <td>ANC</td>\n",
       "      <td>25</td>\n",
       "      <td>...</td>\n",
       "      <td>259.0</td>\n",
       "      <td>-21.0</td>\n",
       "      <td>0</td>\n",
       "      <td>0</td>\n",
       "      <td>NaN</td>\n",
       "      <td>NaN</td>\n",
       "      <td>NaN</td>\n",
       "      <td>NaN</td>\n",
       "      <td>NaN</td>\n",
       "      <td>NaN</td>\n",
       "    </tr>\n",
       "  </tbody>\n",
       "</table>\n",
       "<p>5 rows × 31 columns</p>\n",
       "</div>"
      ],
      "text/plain": [
       "   YEAR  MONTH  DAY  DAY_OF_WEEK AIRLINE  FLIGHT_NUMBER TAIL_NUMBER  \\\n",
       "0  2015      1    1            4      AS             98      N407AS   \n",
       "1  2015      1    1            4      AA           2336      N3KUAA   \n",
       "2  2015      1    1            4      US            840      N171US   \n",
       "3  2015      1    1            4      AA            258      N3HYAA   \n",
       "4  2015      1    1            4      AS            135      N527AS   \n",
       "\n",
       "  ORIGIN_AIRPORT DESTINATION_AIRPORT  SCHEDULED_DEPARTURE  ...  ARRIVAL_TIME  \\\n",
       "0            ANC                 SEA                    5  ...         408.0   \n",
       "1            LAX                 PBI                   10  ...         741.0   \n",
       "2            SFO                 CLT                   20  ...         811.0   \n",
       "3            LAX                 MIA                   20  ...         756.0   \n",
       "4            SEA                 ANC                   25  ...         259.0   \n",
       "\n",
       "   ARRIVAL_DELAY  DIVERTED  CANCELLED  CANCELLATION_REASON  AIR_SYSTEM_DELAY  \\\n",
       "0          -22.0         0          0                  NaN               NaN   \n",
       "1           -9.0         0          0                  NaN               NaN   \n",
       "2            5.0         0          0                  NaN               NaN   \n",
       "3           -9.0         0          0                  NaN               NaN   \n",
       "4          -21.0         0          0                  NaN               NaN   \n",
       "\n",
       "   SECURITY_DELAY  AIRLINE_DELAY  LATE_AIRCRAFT_DELAY  WEATHER_DELAY  \n",
       "0             NaN            NaN                  NaN            NaN  \n",
       "1             NaN            NaN                  NaN            NaN  \n",
       "2             NaN            NaN                  NaN            NaN  \n",
       "3             NaN            NaN                  NaN            NaN  \n",
       "4             NaN            NaN                  NaN            NaN  \n",
       "\n",
       "[5 rows x 31 columns]"
      ]
     },
     "execution_count": 79,
     "metadata": {},
     "output_type": "execute_result"
    }
   ],
   "source": [
    "airlines_project_df.head()\n"
   ]
  },
  {
   "cell_type": "code",
   "execution_count": 80,
   "id": "0868ea5c",
   "metadata": {},
   "outputs": [
    {
     "name": "stdout",
     "output_type": "stream",
     "text": [
      "<class 'pandas.core.frame.DataFrame'>\n",
      "RangeIndex: 5819079 entries, 0 to 5819078\n",
      "Data columns (total 31 columns):\n",
      " #   Column               Dtype  \n",
      "---  ------               -----  \n",
      " 0   YEAR                 int64  \n",
      " 1   MONTH                int64  \n",
      " 2   DAY                  int64  \n",
      " 3   DAY_OF_WEEK          int64  \n",
      " 4   AIRLINE              object \n",
      " 5   FLIGHT_NUMBER        int64  \n",
      " 6   TAIL_NUMBER          object \n",
      " 7   ORIGIN_AIRPORT       object \n",
      " 8   DESTINATION_AIRPORT  object \n",
      " 9   SCHEDULED_DEPARTURE  int64  \n",
      " 10  DEPARTURE_TIME       float64\n",
      " 11  DEPARTURE_DELAY      float64\n",
      " 12  TAXI_OUT             float64\n",
      " 13  WHEELS_OFF           float64\n",
      " 14  SCHEDULED_TIME       float64\n",
      " 15  ELAPSED_TIME         float64\n",
      " 16  AIR_TIME             float64\n",
      " 17  DISTANCE             int64  \n",
      " 18  WHEELS_ON            float64\n",
      " 19  TAXI_IN              float64\n",
      " 20  SCHEDULED_ARRIVAL    int64  \n",
      " 21  ARRIVAL_TIME         float64\n",
      " 22  ARRIVAL_DELAY        float64\n",
      " 23  DIVERTED             int64  \n",
      " 24  CANCELLED            int64  \n",
      " 25  CANCELLATION_REASON  object \n",
      " 26  AIR_SYSTEM_DELAY     float64\n",
      " 27  SECURITY_DELAY       float64\n",
      " 28  AIRLINE_DELAY        float64\n",
      " 29  LATE_AIRCRAFT_DELAY  float64\n",
      " 30  WEATHER_DELAY        float64\n",
      "dtypes: float64(16), int64(10), object(5)\n",
      "memory usage: 1.3+ GB\n"
     ]
    }
   ],
   "source": [
    "airlines_project_df.info()"
   ]
  },
  {
   "cell_type": "code",
   "execution_count": 81,
   "id": "108b2469",
   "metadata": {},
   "outputs": [],
   "source": [
    "airlines_project_revised_df = airlines_project_df.drop(columns=['TAIL_NUMBER', 'WHEELS_ON', 'WHEELS_OFF', 'TAXI_IN', 'TAXI_OUT', 'AIR_TIME'])"
   ]
  },
  {
   "cell_type": "code",
   "execution_count": 82,
   "id": "30779ea4",
   "metadata": {},
   "outputs": [
    {
     "name": "stdout",
     "output_type": "stream",
     "text": [
      "<class 'pandas.core.frame.DataFrame'>\n",
      "RangeIndex: 5819079 entries, 0 to 5819078\n",
      "Data columns (total 25 columns):\n",
      " #   Column               Dtype  \n",
      "---  ------               -----  \n",
      " 0   YEAR                 int64  \n",
      " 1   MONTH                int64  \n",
      " 2   DAY                  int64  \n",
      " 3   DAY_OF_WEEK          int64  \n",
      " 4   AIRLINE              object \n",
      " 5   FLIGHT_NUMBER        int64  \n",
      " 6   ORIGIN_AIRPORT       object \n",
      " 7   DESTINATION_AIRPORT  object \n",
      " 8   SCHEDULED_DEPARTURE  int64  \n",
      " 9   DEPARTURE_TIME       float64\n",
      " 10  DEPARTURE_DELAY      float64\n",
      " 11  SCHEDULED_TIME       float64\n",
      " 12  ELAPSED_TIME         float64\n",
      " 13  DISTANCE             int64  \n",
      " 14  SCHEDULED_ARRIVAL    int64  \n",
      " 15  ARRIVAL_TIME         float64\n",
      " 16  ARRIVAL_DELAY        float64\n",
      " 17  DIVERTED             int64  \n",
      " 18  CANCELLED            int64  \n",
      " 19  CANCELLATION_REASON  object \n",
      " 20  AIR_SYSTEM_DELAY     float64\n",
      " 21  SECURITY_DELAY       float64\n",
      " 22  AIRLINE_DELAY        float64\n",
      " 23  LATE_AIRCRAFT_DELAY  float64\n",
      " 24  WEATHER_DELAY        float64\n",
      "dtypes: float64(11), int64(10), object(4)\n",
      "memory usage: 1.1+ GB\n"
     ]
    }
   ],
   "source": [
    "airlines_project_revised_df.info()"
   ]
  },
  {
   "cell_type": "code",
   "execution_count": 83,
   "id": "7bd848d9",
   "metadata": {},
   "outputs": [],
   "source": [
    "airlines_project_revised_df['DATE'] = pd.to_datetime(airlines_project_revised_df[['YEAR', 'MONTH', 'DAY']])"
   ]
  },
  {
   "cell_type": "code",
   "execution_count": 84,
   "id": "56c56bac",
   "metadata": {},
   "outputs": [],
   "source": [
    "airlines_project_revised_df = airlines_project_revised_df.drop(['YEAR', 'MONTH', 'DAY'], axis=1)"
   ]
  },
  {
   "cell_type": "code",
   "execution_count": 85,
   "id": "f600e620",
   "metadata": {},
   "outputs": [
    {
     "name": "stdout",
     "output_type": "stream",
     "text": [
      "<class 'pandas.core.frame.DataFrame'>\n",
      "RangeIndex: 5819079 entries, 0 to 5819078\n",
      "Data columns (total 23 columns):\n",
      " #   Column               Dtype         \n",
      "---  ------               -----         \n",
      " 0   DAY_OF_WEEK          int64         \n",
      " 1   AIRLINE              object        \n",
      " 2   FLIGHT_NUMBER        int64         \n",
      " 3   ORIGIN_AIRPORT       object        \n",
      " 4   DESTINATION_AIRPORT  object        \n",
      " 5   SCHEDULED_DEPARTURE  int64         \n",
      " 6   DEPARTURE_TIME       float64       \n",
      " 7   DEPARTURE_DELAY      float64       \n",
      " 8   SCHEDULED_TIME       float64       \n",
      " 9   ELAPSED_TIME         float64       \n",
      " 10  DISTANCE             int64         \n",
      " 11  SCHEDULED_ARRIVAL    int64         \n",
      " 12  ARRIVAL_TIME         float64       \n",
      " 13  ARRIVAL_DELAY        float64       \n",
      " 14  DIVERTED             int64         \n",
      " 15  CANCELLED            int64         \n",
      " 16  CANCELLATION_REASON  object        \n",
      " 17  AIR_SYSTEM_DELAY     float64       \n",
      " 18  SECURITY_DELAY       float64       \n",
      " 19  AIRLINE_DELAY        float64       \n",
      " 20  LATE_AIRCRAFT_DELAY  float64       \n",
      " 21  WEATHER_DELAY        float64       \n",
      " 22  DATE                 datetime64[ns]\n",
      "dtypes: datetime64[ns](1), float64(11), int64(7), object(4)\n",
      "memory usage: 1021.1+ MB\n"
     ]
    }
   ],
   "source": [
    "airlines_project_revised_df.info()"
   ]
  },
  {
   "cell_type": "code",
   "execution_count": 86,
   "id": "d22571fa",
   "metadata": {},
   "outputs": [],
   "source": [
    "airlines_project_revised_df.set_index('DATE', inplace=True)"
   ]
  },
  {
   "cell_type": "code",
   "execution_count": null,
   "id": "0acf9f0a",
   "metadata": {},
   "outputs": [],
   "source": []
  },
  {
   "cell_type": "code",
   "execution_count": 87,
   "id": "b35a739a",
   "metadata": {},
   "outputs": [
    {
     "name": "stdout",
     "output_type": "stream",
     "text": [
      "<class 'pandas.core.frame.DataFrame'>\n",
      "DatetimeIndex: 2032144 entries, 2015-05-01 to 2015-08-31\n",
      "Data columns (total 24 columns):\n",
      " #   Column                  Dtype  \n",
      "---  ------                  -----  \n",
      " 0   DAY_OF_WEEK             int64  \n",
      " 1   AIRLINE                 object \n",
      " 2   FLIGHT_NUMBER           int64  \n",
      " 3   ORIGIN_AIRPORT          object \n",
      " 4   DESTINATION_AIRPORT     object \n",
      " 5   SCHEDULED_DEPARTURE     int64  \n",
      " 6   DEPARTURE_TIME          float64\n",
      " 7   DEPARTURE_DELAY         float64\n",
      " 8   SCHEDULED_TIME          float64\n",
      " 9   ELAPSED_TIME            float64\n",
      " 10  DISTANCE                int64  \n",
      " 11  SCHEDULED_ARRIVAL       int64  \n",
      " 12  ARRIVAL_TIME            float64\n",
      " 13  ARRIVAL_DELAY           float64\n",
      " 14  DIVERTED                int64  \n",
      " 15  CANCELLED               int64  \n",
      " 16  CANCELLATION_REASON     object \n",
      " 17  AIR_SYSTEM_DELAY        float64\n",
      " 18  SECURITY_DELAY          float64\n",
      " 19  AIRLINE_DELAY           float64\n",
      " 20  LATE_AIRCRAFT_DELAY     float64\n",
      " 21  WEATHER_DELAY           float64\n",
      " 22  DEPARTURE_DELAY_STATUS  object \n",
      " 23  ARRIVAL_DELAY_STATUS    object \n",
      "dtypes: float64(11), int64(7), object(6)\n",
      "memory usage: 387.6+ MB\n"
     ]
    }
   ],
   "source": [
    "second_quarter_df.info()"
   ]
  },
  {
   "cell_type": "code",
   "execution_count": 88,
   "id": "fbeaa490",
   "metadata": {},
   "outputs": [],
   "source": [
    "def delayed_flights(arrival_departure_time):\n",
    "    flight_status = ''\n",
    "    if arrival_departure_time > 0:\n",
    "        flight_status = 'DELAYED'\n",
    "    else:\n",
    "        Flight_status = 'ON_TIME'\n",
    "    return flight_status"
   ]
  },
  {
   "cell_type": "code",
   "execution_count": 89,
   "id": "28ebb27c",
   "metadata": {},
   "outputs": [],
   "source": [
    "airlines_project_revised_df['DEPARTURE_DELAY_STATUS'] = airlines_project_revised_df['DEPARTURE_DELAY'].apply(delayed_flights)\n",
    "\n",
    "airlines_project_revised_df['ARRIVAL_DELAY_STATUS'] = airlines_project_revised_df['ARRIVAL_DELAY'].apply(delayed_flights)"
   ]
  },
  {
   "cell_type": "code",
   "execution_count": 90,
   "id": "d12fabe0",
   "metadata": {
    "scrolled": true
   },
   "outputs": [
    {
     "data": {
      "text/html": [
       "<div>\n",
       "<style scoped>\n",
       "    .dataframe tbody tr th:only-of-type {\n",
       "        vertical-align: middle;\n",
       "    }\n",
       "\n",
       "    .dataframe tbody tr th {\n",
       "        vertical-align: top;\n",
       "    }\n",
       "\n",
       "    .dataframe thead th {\n",
       "        text-align: right;\n",
       "    }\n",
       "</style>\n",
       "<table border=\"1\" class=\"dataframe\">\n",
       "  <thead>\n",
       "    <tr style=\"text-align: right;\">\n",
       "      <th></th>\n",
       "      <th>DAY_OF_WEEK</th>\n",
       "      <th>AIRLINE</th>\n",
       "      <th>FLIGHT_NUMBER</th>\n",
       "      <th>ORIGIN_AIRPORT</th>\n",
       "      <th>DESTINATION_AIRPORT</th>\n",
       "      <th>SCHEDULED_DEPARTURE</th>\n",
       "      <th>DEPARTURE_TIME</th>\n",
       "      <th>DEPARTURE_DELAY</th>\n",
       "      <th>SCHEDULED_TIME</th>\n",
       "      <th>ELAPSED_TIME</th>\n",
       "      <th>...</th>\n",
       "      <th>DIVERTED</th>\n",
       "      <th>CANCELLED</th>\n",
       "      <th>CANCELLATION_REASON</th>\n",
       "      <th>AIR_SYSTEM_DELAY</th>\n",
       "      <th>SECURITY_DELAY</th>\n",
       "      <th>AIRLINE_DELAY</th>\n",
       "      <th>LATE_AIRCRAFT_DELAY</th>\n",
       "      <th>WEATHER_DELAY</th>\n",
       "      <th>DEPARTURE_DELAY_STATUS</th>\n",
       "      <th>ARRIVAL_DELAY_STATUS</th>\n",
       "    </tr>\n",
       "    <tr>\n",
       "      <th>DATE</th>\n",
       "      <th></th>\n",
       "      <th></th>\n",
       "      <th></th>\n",
       "      <th></th>\n",
       "      <th></th>\n",
       "      <th></th>\n",
       "      <th></th>\n",
       "      <th></th>\n",
       "      <th></th>\n",
       "      <th></th>\n",
       "      <th></th>\n",
       "      <th></th>\n",
       "      <th></th>\n",
       "      <th></th>\n",
       "      <th></th>\n",
       "      <th></th>\n",
       "      <th></th>\n",
       "      <th></th>\n",
       "      <th></th>\n",
       "      <th></th>\n",
       "      <th></th>\n",
       "    </tr>\n",
       "  </thead>\n",
       "  <tbody>\n",
       "    <tr>\n",
       "      <th>2015-01-01</th>\n",
       "      <td>4</td>\n",
       "      <td>AS</td>\n",
       "      <td>98</td>\n",
       "      <td>ANC</td>\n",
       "      <td>SEA</td>\n",
       "      <td>5</td>\n",
       "      <td>2354.0</td>\n",
       "      <td>-11.0</td>\n",
       "      <td>205.0</td>\n",
       "      <td>194.0</td>\n",
       "      <td>...</td>\n",
       "      <td>0</td>\n",
       "      <td>0</td>\n",
       "      <td>NaN</td>\n",
       "      <td>NaN</td>\n",
       "      <td>NaN</td>\n",
       "      <td>NaN</td>\n",
       "      <td>NaN</td>\n",
       "      <td>NaN</td>\n",
       "      <td></td>\n",
       "      <td></td>\n",
       "    </tr>\n",
       "    <tr>\n",
       "      <th>2015-01-01</th>\n",
       "      <td>4</td>\n",
       "      <td>AA</td>\n",
       "      <td>2336</td>\n",
       "      <td>LAX</td>\n",
       "      <td>PBI</td>\n",
       "      <td>10</td>\n",
       "      <td>2.0</td>\n",
       "      <td>-8.0</td>\n",
       "      <td>280.0</td>\n",
       "      <td>279.0</td>\n",
       "      <td>...</td>\n",
       "      <td>0</td>\n",
       "      <td>0</td>\n",
       "      <td>NaN</td>\n",
       "      <td>NaN</td>\n",
       "      <td>NaN</td>\n",
       "      <td>NaN</td>\n",
       "      <td>NaN</td>\n",
       "      <td>NaN</td>\n",
       "      <td></td>\n",
       "      <td></td>\n",
       "    </tr>\n",
       "    <tr>\n",
       "      <th>2015-01-01</th>\n",
       "      <td>4</td>\n",
       "      <td>US</td>\n",
       "      <td>840</td>\n",
       "      <td>SFO</td>\n",
       "      <td>CLT</td>\n",
       "      <td>20</td>\n",
       "      <td>18.0</td>\n",
       "      <td>-2.0</td>\n",
       "      <td>286.0</td>\n",
       "      <td>293.0</td>\n",
       "      <td>...</td>\n",
       "      <td>0</td>\n",
       "      <td>0</td>\n",
       "      <td>NaN</td>\n",
       "      <td>NaN</td>\n",
       "      <td>NaN</td>\n",
       "      <td>NaN</td>\n",
       "      <td>NaN</td>\n",
       "      <td>NaN</td>\n",
       "      <td></td>\n",
       "      <td>DELAYED</td>\n",
       "    </tr>\n",
       "    <tr>\n",
       "      <th>2015-01-01</th>\n",
       "      <td>4</td>\n",
       "      <td>AA</td>\n",
       "      <td>258</td>\n",
       "      <td>LAX</td>\n",
       "      <td>MIA</td>\n",
       "      <td>20</td>\n",
       "      <td>15.0</td>\n",
       "      <td>-5.0</td>\n",
       "      <td>285.0</td>\n",
       "      <td>281.0</td>\n",
       "      <td>...</td>\n",
       "      <td>0</td>\n",
       "      <td>0</td>\n",
       "      <td>NaN</td>\n",
       "      <td>NaN</td>\n",
       "      <td>NaN</td>\n",
       "      <td>NaN</td>\n",
       "      <td>NaN</td>\n",
       "      <td>NaN</td>\n",
       "      <td></td>\n",
       "      <td></td>\n",
       "    </tr>\n",
       "    <tr>\n",
       "      <th>2015-01-01</th>\n",
       "      <td>4</td>\n",
       "      <td>AS</td>\n",
       "      <td>135</td>\n",
       "      <td>SEA</td>\n",
       "      <td>ANC</td>\n",
       "      <td>25</td>\n",
       "      <td>24.0</td>\n",
       "      <td>-1.0</td>\n",
       "      <td>235.0</td>\n",
       "      <td>215.0</td>\n",
       "      <td>...</td>\n",
       "      <td>0</td>\n",
       "      <td>0</td>\n",
       "      <td>NaN</td>\n",
       "      <td>NaN</td>\n",
       "      <td>NaN</td>\n",
       "      <td>NaN</td>\n",
       "      <td>NaN</td>\n",
       "      <td>NaN</td>\n",
       "      <td></td>\n",
       "      <td></td>\n",
       "    </tr>\n",
       "  </tbody>\n",
       "</table>\n",
       "<p>5 rows × 24 columns</p>\n",
       "</div>"
      ],
      "text/plain": [
       "            DAY_OF_WEEK AIRLINE  FLIGHT_NUMBER ORIGIN_AIRPORT  \\\n",
       "DATE                                                            \n",
       "2015-01-01            4      AS             98            ANC   \n",
       "2015-01-01            4      AA           2336            LAX   \n",
       "2015-01-01            4      US            840            SFO   \n",
       "2015-01-01            4      AA            258            LAX   \n",
       "2015-01-01            4      AS            135            SEA   \n",
       "\n",
       "           DESTINATION_AIRPORT  SCHEDULED_DEPARTURE  DEPARTURE_TIME  \\\n",
       "DATE                                                                  \n",
       "2015-01-01                 SEA                    5          2354.0   \n",
       "2015-01-01                 PBI                   10             2.0   \n",
       "2015-01-01                 CLT                   20            18.0   \n",
       "2015-01-01                 MIA                   20            15.0   \n",
       "2015-01-01                 ANC                   25            24.0   \n",
       "\n",
       "            DEPARTURE_DELAY  SCHEDULED_TIME  ELAPSED_TIME  ...  DIVERTED  \\\n",
       "DATE                                                       ...             \n",
       "2015-01-01            -11.0           205.0         194.0  ...         0   \n",
       "2015-01-01             -8.0           280.0         279.0  ...         0   \n",
       "2015-01-01             -2.0           286.0         293.0  ...         0   \n",
       "2015-01-01             -5.0           285.0         281.0  ...         0   \n",
       "2015-01-01             -1.0           235.0         215.0  ...         0   \n",
       "\n",
       "            CANCELLED  CANCELLATION_REASON  AIR_SYSTEM_DELAY  SECURITY_DELAY  \\\n",
       "DATE                                                                           \n",
       "2015-01-01          0                  NaN               NaN             NaN   \n",
       "2015-01-01          0                  NaN               NaN             NaN   \n",
       "2015-01-01          0                  NaN               NaN             NaN   \n",
       "2015-01-01          0                  NaN               NaN             NaN   \n",
       "2015-01-01          0                  NaN               NaN             NaN   \n",
       "\n",
       "            AIRLINE_DELAY LATE_AIRCRAFT_DELAY  WEATHER_DELAY  \\\n",
       "DATE                                                           \n",
       "2015-01-01            NaN                 NaN            NaN   \n",
       "2015-01-01            NaN                 NaN            NaN   \n",
       "2015-01-01            NaN                 NaN            NaN   \n",
       "2015-01-01            NaN                 NaN            NaN   \n",
       "2015-01-01            NaN                 NaN            NaN   \n",
       "\n",
       "            DEPARTURE_DELAY_STATUS  ARRIVAL_DELAY_STATUS  \n",
       "DATE                                                      \n",
       "2015-01-01                                                \n",
       "2015-01-01                                                \n",
       "2015-01-01                                       DELAYED  \n",
       "2015-01-01                                                \n",
       "2015-01-01                                                \n",
       "\n",
       "[5 rows x 24 columns]"
      ]
     },
     "execution_count": 90,
     "metadata": {},
     "output_type": "execute_result"
    }
   ],
   "source": [
    "airlines_project_revised_df.head()"
   ]
  },
  {
   "cell_type": "code",
   "execution_count": 91,
   "id": "cad47b60",
   "metadata": {},
   "outputs": [],
   "source": [
    "second_quarter_df = airlines_project_revised_df.loc['2015-05-01':'2015-08-31']"
   ]
  },
  {
   "cell_type": "code",
   "execution_count": 92,
   "id": "2e29666f",
   "metadata": {},
   "outputs": [],
   "source": [
    "delayed_takeoffs = second_quarter_df[second_quarter_df['DEPARTURE_DELAY_STATUS']=='DELAYED']"
   ]
  },
  {
   "cell_type": "code",
   "execution_count": 102,
   "id": "8497aeff",
   "metadata": {},
   "outputs": [],
   "source": [
    "day_of_week_departure_df = pd.DataFrame(delayed_takeoffs['DAY_OF_WEEK'])"
   ]
  },
  {
   "cell_type": "code",
   "execution_count": 107,
   "id": "ee6bd3b5",
   "metadata": {},
   "outputs": [],
   "source": [
    "departures_day_of_week_delays_df = pd.DataFrame(day_of_week_departure_df.groupby(['DAY_OF_WEEK']).value_counts())"
   ]
  },
  {
   "cell_type": "code",
   "execution_count": 108,
   "id": "c4fc9a8d",
   "metadata": {},
   "outputs": [],
   "source": [
    "departures_day_of_week_delays_df = departures_day_of_week_delays_df.reset_index('DAY_OF_WEEK')"
   ]
  },
  {
   "cell_type": "code",
   "execution_count": 109,
   "id": "a31f9131",
   "metadata": {},
   "outputs": [
    {
     "data": {
      "text/html": [
       "<div>\n",
       "<style scoped>\n",
       "    .dataframe tbody tr th:only-of-type {\n",
       "        vertical-align: middle;\n",
       "    }\n",
       "\n",
       "    .dataframe tbody tr th {\n",
       "        vertical-align: top;\n",
       "    }\n",
       "\n",
       "    .dataframe thead th {\n",
       "        text-align: right;\n",
       "    }\n",
       "</style>\n",
       "<table border=\"1\" class=\"dataframe\">\n",
       "  <thead>\n",
       "    <tr style=\"text-align: right;\">\n",
       "      <th></th>\n",
       "      <th>DAY_OF_WEEK</th>\n",
       "      <th>count</th>\n",
       "    </tr>\n",
       "  </thead>\n",
       "  <tbody>\n",
       "    <tr>\n",
       "      <th>0</th>\n",
       "      <td>1</td>\n",
       "      <td>121938</td>\n",
       "    </tr>\n",
       "    <tr>\n",
       "      <th>1</th>\n",
       "      <td>2</td>\n",
       "      <td>117239</td>\n",
       "    </tr>\n",
       "    <tr>\n",
       "      <th>2</th>\n",
       "      <td>3</td>\n",
       "      <td>114914</td>\n",
       "    </tr>\n",
       "    <tr>\n",
       "      <th>3</th>\n",
       "      <td>4</td>\n",
       "      <td>119828</td>\n",
       "    </tr>\n",
       "    <tr>\n",
       "      <th>4</th>\n",
       "      <td>5</td>\n",
       "      <td>119040</td>\n",
       "    </tr>\n",
       "    <tr>\n",
       "      <th>5</th>\n",
       "      <td>6</td>\n",
       "      <td>90131</td>\n",
       "    </tr>\n",
       "    <tr>\n",
       "      <th>6</th>\n",
       "      <td>7</td>\n",
       "      <td>111606</td>\n",
       "    </tr>\n",
       "  </tbody>\n",
       "</table>\n",
       "</div>"
      ],
      "text/plain": [
       "   DAY_OF_WEEK   count\n",
       "0            1  121938\n",
       "1            2  117239\n",
       "2            3  114914\n",
       "3            4  119828\n",
       "4            5  119040\n",
       "5            6   90131\n",
       "6            7  111606"
      ]
     },
     "execution_count": 109,
     "metadata": {},
     "output_type": "execute_result"
    }
   ],
   "source": [
    "departures_day_of_week_delays_df"
   ]
  },
  {
   "cell_type": "code",
   "execution_count": 110,
   "id": "f026625d",
   "metadata": {},
   "outputs": [
    {
     "data": {
      "text/plain": [
       "<Axes: title={'center': 'Delayed Departures by Day of the Week'}, xlabel='DAY_OF_WEEK'>"
      ]
     },
     "execution_count": 110,
     "metadata": {},
     "output_type": "execute_result"
    },
    {
     "data": {
      "image/png": "[encoded data removed]",
      "text/plain": [
       "<Figure size 640x480 with 1 Axes>"
      ]
     },
     "metadata": {},
     "output_type": "display_data"
    }
   ],
   "source": [
    "departures_day_of_week_delays_df.set_index('DAY_OF_WEEK')['count'].plot(title='Delayed Departures by Day of the Week')"
   ]
  },
  {
   "cell_type": "code",
   "execution_count": 116,
   "id": "95d6b372",
   "metadata": {},
   "outputs": [],
   "source": [
    "delayed_landings = second_quarter_df[second_quarter_df['ARRIVAL_DELAY_STATUS']=='DELAYED']"
   ]
  },
  {
   "cell_type": "code",
   "execution_count": 117,
   "id": "04c97dff",
   "metadata": {},
   "outputs": [],
   "source": [
    "day_of_week_arrival_df = pd.DataFrame(delayed_landings['DAY_OF_WEEK'])"
   ]
  },
  {
   "cell_type": "code",
   "execution_count": 118,
   "id": "145c739c",
   "metadata": {},
   "outputs": [],
   "source": [
    "arrival_day_of_week_delays_df = pd.DataFrame(day_of_week_arrival_df.groupby(['DAY_OF_WEEK']).value_counts())"
   ]
  },
  {
   "cell_type": "code",
   "execution_count": 119,
   "id": "c9befb8b",
   "metadata": {},
   "outputs": [],
   "source": [
    "arrival_day_of_week_delays_df = arrival_day_of_week_delays_df.reset_index('DAY_OF_WEEK')"
   ]
  },
  {
   "cell_type": "code",
   "execution_count": 120,
   "id": "55118e12",
   "metadata": {
    "scrolled": true
   },
   "outputs": [
    {
     "data": {
      "text/plain": [
       "<Axes: title={'center': 'Delayed Arrivals by Day of the Week'}, xlabel='DAY_OF_WEEK'>"
      ]
     },
     "execution_count": 120,
     "metadata": {},
     "output_type": "execute_result"
    },
    {
     "data": {
      "image/png": "[encoded data removed]",
      "text/plain": [
       "<Figure size 640x480 with 1 Axes>"
      ]
     },
     "metadata": {},
     "output_type": "display_data"
    }
   ],
   "source": [
    "arrival_day_of_week_delays_df.set_index('DAY_OF_WEEK')['count'].plot(title='Delayed Arrivals by Day of the Week')"
   ]
  },
  {
   "cell_type": "code",
   "execution_count": 134,
   "id": "b6443ab7",
   "metadata": {},
   "outputs": [
    {
     "data": {
      "text/html": [
       "<div>\n",
       "<style scoped>\n",
       "    .dataframe tbody tr th:only-of-type {\n",
       "        vertical-align: middle;\n",
       "    }\n",
       "\n",
       "    .dataframe tbody tr th {\n",
       "        vertical-align: top;\n",
       "    }\n",
       "\n",
       "    .dataframe thead th {\n",
       "        text-align: right;\n",
       "    }\n",
       "</style>\n",
       "<table border=\"1\" class=\"dataframe\">\n",
       "  <thead>\n",
       "    <tr style=\"text-align: right;\">\n",
       "      <th></th>\n",
       "      <th>DEPARTURE_DELAY</th>\n",
       "    </tr>\n",
       "    <tr>\n",
       "      <th>AIRLINE</th>\n",
       "      <th></th>\n",
       "    </tr>\n",
       "  </thead>\n",
       "  <tbody>\n",
       "    <tr>\n",
       "      <th>WN</th>\n",
       "      <td>6026130.0</td>\n",
       "    </tr>\n",
       "    <tr>\n",
       "      <th>UA</th>\n",
       "      <td>3286537.0</td>\n",
       "    </tr>\n",
       "    <tr>\n",
       "      <th>DL</th>\n",
       "      <td>2690592.0</td>\n",
       "    </tr>\n",
       "    <tr>\n",
       "      <th>AA</th>\n",
       "      <td>2635690.0</td>\n",
       "    </tr>\n",
       "    <tr>\n",
       "      <th>EV</th>\n",
       "      <td>2030161.0</td>\n",
       "    </tr>\n",
       "    <tr>\n",
       "      <th>OO</th>\n",
       "      <td>1659289.0</td>\n",
       "    </tr>\n",
       "    <tr>\n",
       "      <th>B6</th>\n",
       "      <td>1026120.0</td>\n",
       "    </tr>\n",
       "    <tr>\n",
       "      <th>NK</th>\n",
       "      <td>966827.0</td>\n",
       "    </tr>\n",
       "    <tr>\n",
       "      <th>MQ</th>\n",
       "      <td>963768.0</td>\n",
       "    </tr>\n",
       "  </tbody>\n",
       "</table>\n",
       "</div>"
      ],
      "text/plain": [
       "         DEPARTURE_DELAY\n",
       "AIRLINE                 \n",
       "WN             6026130.0\n",
       "UA             3286537.0\n",
       "DL             2690592.0\n",
       "AA             2635690.0\n",
       "EV             2030161.0\n",
       "OO             1659289.0\n",
       "B6             1026120.0\n",
       "NK              966827.0\n",
       "MQ              963768.0"
      ]
     },
     "execution_count": 134,
     "metadata": {},
     "output_type": "execute_result"
    }
   ],
   "source": [
    "top_9_airlines_delayed = pd.DataFrame(second_quarter_df.groupby('AIRLINE')['DEPARTURE_DELAY'].sum().nlargest(9))\n",
    "top_9_airlines_delayed\n"
   ]
  },
  {
   "cell_type": "code",
   "execution_count": 140,
   "id": "72d451a2",
   "metadata": {},
   "outputs": [],
   "source": [
    "top_9_airlines_delayed = top_9_airlines_delayed.reset_index()"
   ]
  },
  {
   "cell_type": "code",
   "execution_count": 142,
   "id": "cddbdd69",
   "metadata": {},
   "outputs": [],
   "source": [
    "top_9_airlines_delayed['AIRLINE'] = top_9_airlines_delayed['AIRLINE'].map({'UA': 'UNITED AIRLINES', 'AA': 'AMERICAN AIRLINES', 'US': 'US AIRWAYS',\n",
    "                                                      'F9': 'FRONTIER AIRLINES', 'B6': 'JETBLUE', 'OO': 'SKYWEST AIRLINES', \n",
    "                                                      'AS': 'ALASKA AIRLINES', 'NK': 'SPIRIT AIRLINES', 'WN': 'SOUTHWEST AIRLINES', \n",
    "                                                      'DL': 'DELTA AIRLINES', 'EV': 'ATLANTIC SE AIRLINES', 'HA': 'HAWAIIAN AIRLINES',\n",
    "                                                      'MQ': 'AMERICAN EAGLE AIRLINES', 'VX': 'VIRGIN AMERICA'})"
   ]
  },
  {
   "cell_type": "code",
   "execution_count": 151,
   "id": "51ac2667",
   "metadata": {},
   "outputs": [
    {
     "data": {
      "image/png": "[encoded data removed]",
      "text/plain": [
       "<Figure size 640x480 with 1 Axes>"
      ]
     },
     "metadata": {},
     "output_type": "display_data"
    }
   ],
   "source": [
    "top_9_airlines_delayed.plot(kind='pie', legend=False, y='DEPARTURE_DELAY', ylabel='', labels=top_9_airlines_delayed['AIRLINE'], autopct='%1.1f%%', startangle=140)\n",
    "plt.axis('equal')  \n",
    "plt.title('Top 9 Airlines with Highest Delayed Flights')\n",
    "plt.tight_layout\n",
    "#plt.(top_9_airlines_delayed.index, bbox_to_anchor=(1, 1), loc='best')\n",
    "plt.show()"
   ]
  },
  {
   "cell_type": "code",
   "execution_count": null,
   "id": "2a05bcec",
   "metadata": {},
   "outputs": [],
   "source": []
  }
 ],
 "metadata": {
  "kernelspec": {
   "display_name": "Python 3 (ipykernel)",
   "language": "python",
   "name": "python3"
  },
  "language_info": {
   "codemirror_mode": {
    "name": "ipython",
    "version": 3
   },
   "file_extension": ".py",
   "mimetype": "text/x-python",
   "name": "python",
   "nbconvert_exporter": "python",
   "pygments_lexer": "ipython3",
   "version": "3.11.5"
  }
 },
 "nbformat": 4,
 "nbformat_minor": 5
}
